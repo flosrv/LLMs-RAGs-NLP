{
 "cells": [
  {
   "cell_type": "code",
   "execution_count": 1,
   "id": "191eee8c",
   "metadata": {},
   "outputs": [],
   "source": [
    "from imports import *"
   ]
  },
  {
   "cell_type": "code",
   "execution_count": 7,
   "id": "3086fd08",
   "metadata": {},
   "outputs": [
    {
     "data": {
      "text/plain": [
       "'{\"models\":[{\"model\":\"james:latest\",\"modified_at\":\"2025-04-27T18:22:01.353557+02:00\",\"digest\":\"d02026627aa96ebd5b89dc96ea7b664af776a8bb7072643d82b30b9e013cf6c8\",\"size\":2019393390,\"details\":{\"parent_model\":\"\",\"format\":\"gguf\",\"family\":\"llama\",\"families\":[\"llama\"],\"parameter_size\":\"3.2B\",\"quantization_level\":\"Q4_K_M\"}},{\"model\":\"codegemma:7b\",\"modified_at\":\"2025-04-27T17:16:20.820075+02:00\",\"digest\":\"0c96700aaada572ce9bb6999d1fda9b53e9e6cef5d74fda1e066a1ba811b93f3\",\"size\":5011852809,\"details\":{\"parent_model\":\"\",\"format\":\"gguf\",\"family\":\"gemma\",\"families\":[\"gemma\"],\"parameter_size\":\"9B\",\"quantization_level\":\"Q4_0\"}},{\"model\":\"llava:7b\",\"modified_at\":\"2025-04-27T15:44:21.360363+02:00\",\"digest\":\"8dd30f6b0cb19f555f2c7a7ebda861449ea2cc76bf1f44e262931f45fc81d081\",\"size\":4733363377,\"details\":{\"parent_model\":\"\",\"format\":\"gguf\",\"family\":\"llama\",\"families\":[\"llama\",\"clip\"],\"parameter_size\":\"7B\",\"quantization_level\":\"Q4_0\"}},{\"model\":\"llama3.2:latest\",\"modified_at\":\"2025-04-27T13:34:06.679304+02:00\",\"digest\":\"a80c4f17acd55265feec403c7aef86be0c25983ab279d83f3bcd3abbcb5b8b72\",\"size\":2019393189,\"details\":{\"parent_model\":\"\",\"format\":\"gguf\",\"family\":\"llama\",\"families\":[\"llama\"],\"parameter_size\":\"3.2B\",\"quantization_level\":\"Q4_K_M\"}},{\"model\":\"mxbai-embed-large:latest\",\"modified_at\":\"2025-04-18T11:44:05.725775+02:00\",\"digest\":\"468836162de7f81e041c43663fedbbba921dcea9b9fefea135685a39b2d83dd8\",\"size\":669615493,\"details\":{\"parent_model\":\"\",\"format\":\"gguf\",\"family\":\"bert\",\"families\":[\"bert\"],\"parameter_size\":\"334M\",\"quantization_level\":\"F16\"}},{\"model\":\"gemma3:1b\",\"modified_at\":\"2025-04-18T11:23:18.008674+02:00\",\"digest\":\"8648f39daa8fbf5b18c7b4e6a8fb4990c692751d49917417b8842ca5758e7ffc\",\"size\":815319791,\"details\":{\"parent_model\":\"\",\"format\":\"gguf\",\"family\":\"gemma3\",\"families\":[\"gemma3\"],\"parameter_size\":\"999.89M\",\"quantization_level\":\"Q4_K_M\"}}]}'"
      ]
     },
     "execution_count": 7,
     "metadata": {},
     "output_type": "execute_result"
    }
   ],
   "source": [
    "models_list = ollama.list().model_dump_json()\n",
    "models_list"
   ]
  },
  {
   "cell_type": "code",
   "execution_count": null,
   "id": "f3c57444",
   "metadata": {},
   "outputs": [
    {
     "data": {
      "text/plain": [
       "\"This text is talking about Mount Damavand, which is a volcanic mountain in Iran and is considered the country's highest peak at 5,610 meters (18,437 ft). It discusses the mountain's location, its popularity as a tourist destination, especially during spring and summer, and its extreme climate conditions. The text also mentions the cultural significance of Mount Damavand in Iranian culture and history, citing references to it in Persian literature and mythology.\""
      ]
     },
     "execution_count": 9,
     "metadata": {},
     "output_type": "execute_result"
    }
   ],
   "source": [
    "# poser la question \"what can you tell me about this image ?\" et utiliser llava:7b  \n",
    "# sur l'image suivante: ./images.jpeg\n",
    "\n",
    "text = \"قله دماوند، بلندترین قله آتشفشانی ایران است که در ۶۵ کیلومتری شمال تهران قرار دارد. این قله با ۵۶۱۰ متر ارتفاع به عنوان بام ایران شناخته می‌شود و مناظر دیدنی آن علاقه‌مندان زیادی را در فصول مختلف سال به خصوص بهار و تابستان به این قله‌ی مرتفع می‌کشاند. دمای قله دماوند در تابستان‌ها صفر درجه بوده و در زمستان‌ها حدود ۶۰ درجه زیر صفر است. شکوه و عظمت این جاذبه‌ی طبیعی بی‌نظیر باعث شده قله دماوند در فرهنگ و تمدن ایران اهمیت ویژه‌ای داشته باشد و به وفور می‌توان ردپای این کوه را در شعرها، افسانه‌ها و داستان‌های پارسی مشاهده کرد.\"\n",
    "\n",
    "\n",
    "response = ollama.chat(\n",
    "    model='llama3.2',\n",
    "    messages=[\n",
    "        {'role': 'user',\n",
    "        'content': f\"can you tell me in english what does this text talks about ?\\n\\n {text}\"   \n",
    "         } ])\n",
    "reply = response.message.content\n",
    "reply"
   ]
  },
  {
   "cell_type": "markdown",
   "id": "84bf0b61",
   "metadata": {},
   "source": [
    "Streaming"
   ]
  },
  {
   "cell_type": "code",
   "execution_count": null,
   "id": "77190830",
   "metadata": {},
   "outputs": [
    {
     "name": "stdout",
     "output_type": "stream",
     "text": [
      "The text talks about how 700 million years ago, the ice was a threat to all complex forms of life on Earth and almost made it uninhabitable. Some scientists believe that the planet was completely covered in ice, hence being called \"Earth-ice\" (Zemlya-snezhok). It seems like an unimaginable fate for a planet close to the Sun, but this climatic catastrophe led to the emergence of new forms of life, which ultimately resulted in the modern world we live in today."
     ]
    }
   ],
   "source": [
    "# poser la question \"what can you tell me about this image ?\" et utiliser llava:7b  \n",
    "# sur l'image suivante: ./images.jpeg\n",
    "\n",
    "text_ru = \"700 миллионов лет назад лед стал угрозой для всех сложных форм жизни на нашей планете, и едва не сделал ее необитаемой. Некоторые ученые считают, что планета была полностью покрыта льдом, ее так и называют – Земля-снежок. Казалось бы, немыслимая судьба для планеты, находящейся так близко к Солнцу. Но в результате этой климатической катастрофы возникли новые формы жизни, которые в итоге привели к появлению современного живого мира.\"\n",
    "\n",
    "response = ollama.chat(\n",
    "    model='llama3.2',\n",
    "    messages= [\n",
    "        {'role': 'user',\n",
    "        'content': f\"can you tell me in english what does this text talks about ?\\n\\n {text_ru}\"   \n",
    "         } ],\n",
    "         stream=True)\n",
    "for chunk in response:\n",
    "    print(chunk.message.content, end='', flush= True)"
   ]
  },
  {
   "cell_type": "code",
   "execution_count": 20,
   "id": "f8692454",
   "metadata": {},
   "outputs": [
    {
     "data": {
      "text/plain": [
       "dict_keys(['modified_at', 'template', 'modelfile', 'license', 'details', 'modelinfo', 'parameters'])"
      ]
     },
     "execution_count": 20,
     "metadata": {},
     "output_type": "execute_result"
    }
   ],
   "source": [
    "# show\n",
    "llama3_2_description_dict = dict(ollama.show('llama3.2'))\n",
    "# show keys\n",
    "llama3_2_description_dict.keys()"
   ]
  },
  {
   "cell_type": "code",
   "execution_count": null,
   "id": "4a87e61f",
   "metadata": {},
   "outputs": [],
   "source": []
  }
 ],
 "metadata": {
  "kernelspec": {
   "display_name": "env",
   "language": "python",
   "name": "python3"
  },
  "language_info": {
   "codemirror_mode": {
    "name": "ipython",
    "version": 3
   },
   "file_extension": ".py",
   "mimetype": "text/x-python",
   "name": "python",
   "nbconvert_exporter": "python",
   "pygments_lexer": "ipython3",
   "version": "3.13.2"
  }
 },
 "nbformat": 4,
 "nbformat_minor": 5
}
